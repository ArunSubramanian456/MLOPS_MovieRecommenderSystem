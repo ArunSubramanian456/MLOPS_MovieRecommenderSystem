{
 "cells": [
  {
   "cell_type": "markdown",
   "id": "a8a38c15-e006-497f-b897-f9ca2943534a",
   "metadata": {},
   "source": [
    "## Data Processing Part4"
   ]
  },
  {
   "cell_type": "markdown",
   "id": "8a603f8f-7717-4f08-9b69-03417227cb8a",
   "metadata": {},
   "source": [
    "data source = https://www.kaggle.com/datasets/lakshmi25npathi/imdb-dataset-of-50k-movie-reviews"
   ]
  },
  {
   "cell_type": "code",
   "execution_count": 366,
   "id": "b6f17de6-d3ba-4abb-8575-c8eee0dd192b",
   "metadata": {},
   "outputs": [],
   "source": [
    "import pandas as pd\n",
    "import numpy as np\n",
    "import nltk\n",
    "\n",
    "from nltk.corpus import stopwords\n",
    "from sklearn.feature_extraction.text import TfidfVectorizer\n",
    "from sklearn.model_selection import train_test_split\n",
    "from sklearn import naive_bayes\n",
    "from sklearn.metrics import roc_auc_score, accuracy_score\n",
    "import pickle"
   ]
  },
  {
   "cell_type": "code",
   "execution_count": 368,
   "id": "cf806eff-17b5-4547-93e4-00334f1e91d1",
   "metadata": {},
   "outputs": [
    {
     "name": "stderr",
     "output_type": "stream",
     "text": [
      "[nltk_data] Downloading package stopwords to\n",
      "[nltk_data]     C:\\Users\\aruns\\AppData\\Roaming\\nltk_data...\n",
      "[nltk_data]   Package stopwords is already up-to-date!\n"
     ]
    },
    {
     "data": {
      "text/plain": [
       "True"
      ]
     },
     "execution_count": 368,
     "metadata": {},
     "output_type": "execute_result"
    }
   ],
   "source": [
    "nltk.download(\"stopwords\")"
   ]
  },
  {
   "cell_type": "code",
   "execution_count": 392,
   "id": "9e01ac0d-504c-4112-aceb-c9006308fe6c",
   "metadata": {},
   "outputs": [],
   "source": [
    "dataset = pd.read_csv('./data/imdb_reviews.csv')"
   ]
  },
  {
   "cell_type": "code",
   "execution_count": 393,
   "id": "0cb1e2b1-fd84-4d5e-a525-5ec464f2b30f",
   "metadata": {},
   "outputs": [
    {
     "data": {
      "text/html": [
       "<div>\n",
       "<style scoped>\n",
       "    .dataframe tbody tr th:only-of-type {\n",
       "        vertical-align: middle;\n",
       "    }\n",
       "\n",
       "    .dataframe tbody tr th {\n",
       "        vertical-align: top;\n",
       "    }\n",
       "\n",
       "    .dataframe thead th {\n",
       "        text-align: right;\n",
       "    }\n",
       "</style>\n",
       "<table border=\"1\" class=\"dataframe\">\n",
       "  <thead>\n",
       "    <tr style=\"text-align: right;\">\n",
       "      <th></th>\n",
       "      <th>review</th>\n",
       "      <th>sentiment</th>\n",
       "    </tr>\n",
       "  </thead>\n",
       "  <tbody>\n",
       "    <tr>\n",
       "      <th>0</th>\n",
       "      <td>One of the other reviewers has mentioned that ...</td>\n",
       "      <td>positive</td>\n",
       "    </tr>\n",
       "    <tr>\n",
       "      <th>1</th>\n",
       "      <td>A wonderful little production. &lt;br /&gt;&lt;br /&gt;The...</td>\n",
       "      <td>positive</td>\n",
       "    </tr>\n",
       "    <tr>\n",
       "      <th>2</th>\n",
       "      <td>I thought this was a wonderful way to spend ti...</td>\n",
       "      <td>positive</td>\n",
       "    </tr>\n",
       "    <tr>\n",
       "      <th>3</th>\n",
       "      <td>Basically there's a family where a little boy ...</td>\n",
       "      <td>negative</td>\n",
       "    </tr>\n",
       "    <tr>\n",
       "      <th>4</th>\n",
       "      <td>Petter Mattei's \"Love in the Time of Money\" is...</td>\n",
       "      <td>positive</td>\n",
       "    </tr>\n",
       "  </tbody>\n",
       "</table>\n",
       "</div>"
      ],
      "text/plain": [
       "                                              review sentiment\n",
       "0  One of the other reviewers has mentioned that ...  positive\n",
       "1  A wonderful little production. <br /><br />The...  positive\n",
       "2  I thought this was a wonderful way to spend ti...  positive\n",
       "3  Basically there's a family where a little boy ...  negative\n",
       "4  Petter Mattei's \"Love in the Time of Money\" is...  positive"
      ]
     },
     "execution_count": 393,
     "metadata": {},
     "output_type": "execute_result"
    }
   ],
   "source": [
    "dataset.head()"
   ]
  },
  {
   "cell_type": "code",
   "execution_count": 396,
   "id": "80237897-dad8-43aa-9a0b-5ca637da193d",
   "metadata": {},
   "outputs": [],
   "source": [
    "dataset['y'] = np.where(dataset['sentiment'] == 'positive', 1,0)"
   ]
  },
  {
   "cell_type": "code",
   "execution_count": 398,
   "id": "0cabb27d-e8bc-4b00-9361-0d1612c5c6d6",
   "metadata": {},
   "outputs": [
    {
     "name": "stdout",
     "output_type": "stream",
     "text": [
      "<class 'pandas.core.frame.DataFrame'>\n",
      "RangeIndex: 50000 entries, 0 to 49999\n",
      "Data columns (total 3 columns):\n",
      " #   Column     Non-Null Count  Dtype \n",
      "---  ------     --------------  ----- \n",
      " 0   review     50000 non-null  object\n",
      " 1   sentiment  50000 non-null  object\n",
      " 2   y          50000 non-null  int32 \n",
      "dtypes: int32(1), object(2)\n",
      "memory usage: 976.7+ KB\n"
     ]
    }
   ],
   "source": [
    "dataset.info()"
   ]
  },
  {
   "cell_type": "code",
   "execution_count": 400,
   "id": "2b6a3c14-0c8b-45bc-8d1b-a42d472e6ae7",
   "metadata": {},
   "outputs": [],
   "source": [
    "stopset = set(stopwords.words('english'))"
   ]
  },
  {
   "cell_type": "code",
   "execution_count": 402,
   "id": "3203cb25-44cf-4590-92f1-d57f9b721b50",
   "metadata": {},
   "outputs": [],
   "source": [
    "vectorizer = TfidfVectorizer(use_idf = True,lowercase = True, strip_accents='ascii',stop_words=list(stopset))"
   ]
  },
  {
   "cell_type": "code",
   "execution_count": 404,
   "id": "4f9eec96-a84b-44e8-8b08-7e1079d92c82",
   "metadata": {},
   "outputs": [],
   "source": [
    "X = vectorizer.fit_transform(dataset.review)\n",
    "y = dataset.y\n",
    "pickle.dump(vectorizer, open('transform.pkl', 'wb'))"
   ]
  },
  {
   "cell_type": "code",
   "execution_count": 406,
   "id": "55d30cbe-bda6-4e33-b9de-f64ecb629340",
   "metadata": {},
   "outputs": [],
   "source": [
    "X_train, X_test, y_train, y_test = train_test_split(X, y, test_size=0.20, random_state=42)"
   ]
  },
  {
   "cell_type": "code",
   "execution_count": 408,
   "id": "3318e9f5-b0e6-4dcb-a9d7-2b02e5b06ebc",
   "metadata": {},
   "outputs": [
    {
     "data": {
      "text/html": [
       "<style>#sk-container-id-4 {\n",
       "  /* Definition of color scheme common for light and dark mode */\n",
       "  --sklearn-color-text: black;\n",
       "  --sklearn-color-line: gray;\n",
       "  /* Definition of color scheme for unfitted estimators */\n",
       "  --sklearn-color-unfitted-level-0: #fff5e6;\n",
       "  --sklearn-color-unfitted-level-1: #f6e4d2;\n",
       "  --sklearn-color-unfitted-level-2: #ffe0b3;\n",
       "  --sklearn-color-unfitted-level-3: chocolate;\n",
       "  /* Definition of color scheme for fitted estimators */\n",
       "  --sklearn-color-fitted-level-0: #f0f8ff;\n",
       "  --sklearn-color-fitted-level-1: #d4ebff;\n",
       "  --sklearn-color-fitted-level-2: #b3dbfd;\n",
       "  --sklearn-color-fitted-level-3: cornflowerblue;\n",
       "\n",
       "  /* Specific color for light theme */\n",
       "  --sklearn-color-text-on-default-background: var(--sg-text-color, var(--theme-code-foreground, var(--jp-content-font-color1, black)));\n",
       "  --sklearn-color-background: var(--sg-background-color, var(--theme-background, var(--jp-layout-color0, white)));\n",
       "  --sklearn-color-border-box: var(--sg-text-color, var(--theme-code-foreground, var(--jp-content-font-color1, black)));\n",
       "  --sklearn-color-icon: #696969;\n",
       "\n",
       "  @media (prefers-color-scheme: dark) {\n",
       "    /* Redefinition of color scheme for dark theme */\n",
       "    --sklearn-color-text-on-default-background: var(--sg-text-color, var(--theme-code-foreground, var(--jp-content-font-color1, white)));\n",
       "    --sklearn-color-background: var(--sg-background-color, var(--theme-background, var(--jp-layout-color0, #111)));\n",
       "    --sklearn-color-border-box: var(--sg-text-color, var(--theme-code-foreground, var(--jp-content-font-color1, white)));\n",
       "    --sklearn-color-icon: #878787;\n",
       "  }\n",
       "}\n",
       "\n",
       "#sk-container-id-4 {\n",
       "  color: var(--sklearn-color-text);\n",
       "}\n",
       "\n",
       "#sk-container-id-4 pre {\n",
       "  padding: 0;\n",
       "}\n",
       "\n",
       "#sk-container-id-4 input.sk-hidden--visually {\n",
       "  border: 0;\n",
       "  clip: rect(1px 1px 1px 1px);\n",
       "  clip: rect(1px, 1px, 1px, 1px);\n",
       "  height: 1px;\n",
       "  margin: -1px;\n",
       "  overflow: hidden;\n",
       "  padding: 0;\n",
       "  position: absolute;\n",
       "  width: 1px;\n",
       "}\n",
       "\n",
       "#sk-container-id-4 div.sk-dashed-wrapped {\n",
       "  border: 1px dashed var(--sklearn-color-line);\n",
       "  margin: 0 0.4em 0.5em 0.4em;\n",
       "  box-sizing: border-box;\n",
       "  padding-bottom: 0.4em;\n",
       "  background-color: var(--sklearn-color-background);\n",
       "}\n",
       "\n",
       "#sk-container-id-4 div.sk-container {\n",
       "  /* jupyter's `normalize.less` sets `[hidden] { display: none; }`\n",
       "     but bootstrap.min.css set `[hidden] { display: none !important; }`\n",
       "     so we also need the `!important` here to be able to override the\n",
       "     default hidden behavior on the sphinx rendered scikit-learn.org.\n",
       "     See: https://github.com/scikit-learn/scikit-learn/issues/21755 */\n",
       "  display: inline-block !important;\n",
       "  position: relative;\n",
       "}\n",
       "\n",
       "#sk-container-id-4 div.sk-text-repr-fallback {\n",
       "  display: none;\n",
       "}\n",
       "\n",
       "div.sk-parallel-item,\n",
       "div.sk-serial,\n",
       "div.sk-item {\n",
       "  /* draw centered vertical line to link estimators */\n",
       "  background-image: linear-gradient(var(--sklearn-color-text-on-default-background), var(--sklearn-color-text-on-default-background));\n",
       "  background-size: 2px 100%;\n",
       "  background-repeat: no-repeat;\n",
       "  background-position: center center;\n",
       "}\n",
       "\n",
       "/* Parallel-specific style estimator block */\n",
       "\n",
       "#sk-container-id-4 div.sk-parallel-item::after {\n",
       "  content: \"\";\n",
       "  width: 100%;\n",
       "  border-bottom: 2px solid var(--sklearn-color-text-on-default-background);\n",
       "  flex-grow: 1;\n",
       "}\n",
       "\n",
       "#sk-container-id-4 div.sk-parallel {\n",
       "  display: flex;\n",
       "  align-items: stretch;\n",
       "  justify-content: center;\n",
       "  background-color: var(--sklearn-color-background);\n",
       "  position: relative;\n",
       "}\n",
       "\n",
       "#sk-container-id-4 div.sk-parallel-item {\n",
       "  display: flex;\n",
       "  flex-direction: column;\n",
       "}\n",
       "\n",
       "#sk-container-id-4 div.sk-parallel-item:first-child::after {\n",
       "  align-self: flex-end;\n",
       "  width: 50%;\n",
       "}\n",
       "\n",
       "#sk-container-id-4 div.sk-parallel-item:last-child::after {\n",
       "  align-self: flex-start;\n",
       "  width: 50%;\n",
       "}\n",
       "\n",
       "#sk-container-id-4 div.sk-parallel-item:only-child::after {\n",
       "  width: 0;\n",
       "}\n",
       "\n",
       "/* Serial-specific style estimator block */\n",
       "\n",
       "#sk-container-id-4 div.sk-serial {\n",
       "  display: flex;\n",
       "  flex-direction: column;\n",
       "  align-items: center;\n",
       "  background-color: var(--sklearn-color-background);\n",
       "  padding-right: 1em;\n",
       "  padding-left: 1em;\n",
       "}\n",
       "\n",
       "\n",
       "/* Toggleable style: style used for estimator/Pipeline/ColumnTransformer box that is\n",
       "clickable and can be expanded/collapsed.\n",
       "- Pipeline and ColumnTransformer use this feature and define the default style\n",
       "- Estimators will overwrite some part of the style using the `sk-estimator` class\n",
       "*/\n",
       "\n",
       "/* Pipeline and ColumnTransformer style (default) */\n",
       "\n",
       "#sk-container-id-4 div.sk-toggleable {\n",
       "  /* Default theme specific background. It is overwritten whether we have a\n",
       "  specific estimator or a Pipeline/ColumnTransformer */\n",
       "  background-color: var(--sklearn-color-background);\n",
       "}\n",
       "\n",
       "/* Toggleable label */\n",
       "#sk-container-id-4 label.sk-toggleable__label {\n",
       "  cursor: pointer;\n",
       "  display: block;\n",
       "  width: 100%;\n",
       "  margin-bottom: 0;\n",
       "  padding: 0.5em;\n",
       "  box-sizing: border-box;\n",
       "  text-align: center;\n",
       "}\n",
       "\n",
       "#sk-container-id-4 label.sk-toggleable__label-arrow:before {\n",
       "  /* Arrow on the left of the label */\n",
       "  content: \"▸\";\n",
       "  float: left;\n",
       "  margin-right: 0.25em;\n",
       "  color: var(--sklearn-color-icon);\n",
       "}\n",
       "\n",
       "#sk-container-id-4 label.sk-toggleable__label-arrow:hover:before {\n",
       "  color: var(--sklearn-color-text);\n",
       "}\n",
       "\n",
       "/* Toggleable content - dropdown */\n",
       "\n",
       "#sk-container-id-4 div.sk-toggleable__content {\n",
       "  max-height: 0;\n",
       "  max-width: 0;\n",
       "  overflow: hidden;\n",
       "  text-align: left;\n",
       "  /* unfitted */\n",
       "  background-color: var(--sklearn-color-unfitted-level-0);\n",
       "}\n",
       "\n",
       "#sk-container-id-4 div.sk-toggleable__content.fitted {\n",
       "  /* fitted */\n",
       "  background-color: var(--sklearn-color-fitted-level-0);\n",
       "}\n",
       "\n",
       "#sk-container-id-4 div.sk-toggleable__content pre {\n",
       "  margin: 0.2em;\n",
       "  border-radius: 0.25em;\n",
       "  color: var(--sklearn-color-text);\n",
       "  /* unfitted */\n",
       "  background-color: var(--sklearn-color-unfitted-level-0);\n",
       "}\n",
       "\n",
       "#sk-container-id-4 div.sk-toggleable__content.fitted pre {\n",
       "  /* unfitted */\n",
       "  background-color: var(--sklearn-color-fitted-level-0);\n",
       "}\n",
       "\n",
       "#sk-container-id-4 input.sk-toggleable__control:checked~div.sk-toggleable__content {\n",
       "  /* Expand drop-down */\n",
       "  max-height: 200px;\n",
       "  max-width: 100%;\n",
       "  overflow: auto;\n",
       "}\n",
       "\n",
       "#sk-container-id-4 input.sk-toggleable__control:checked~label.sk-toggleable__label-arrow:before {\n",
       "  content: \"▾\";\n",
       "}\n",
       "\n",
       "/* Pipeline/ColumnTransformer-specific style */\n",
       "\n",
       "#sk-container-id-4 div.sk-label input.sk-toggleable__control:checked~label.sk-toggleable__label {\n",
       "  color: var(--sklearn-color-text);\n",
       "  background-color: var(--sklearn-color-unfitted-level-2);\n",
       "}\n",
       "\n",
       "#sk-container-id-4 div.sk-label.fitted input.sk-toggleable__control:checked~label.sk-toggleable__label {\n",
       "  background-color: var(--sklearn-color-fitted-level-2);\n",
       "}\n",
       "\n",
       "/* Estimator-specific style */\n",
       "\n",
       "/* Colorize estimator box */\n",
       "#sk-container-id-4 div.sk-estimator input.sk-toggleable__control:checked~label.sk-toggleable__label {\n",
       "  /* unfitted */\n",
       "  background-color: var(--sklearn-color-unfitted-level-2);\n",
       "}\n",
       "\n",
       "#sk-container-id-4 div.sk-estimator.fitted input.sk-toggleable__control:checked~label.sk-toggleable__label {\n",
       "  /* fitted */\n",
       "  background-color: var(--sklearn-color-fitted-level-2);\n",
       "}\n",
       "\n",
       "#sk-container-id-4 div.sk-label label.sk-toggleable__label,\n",
       "#sk-container-id-4 div.sk-label label {\n",
       "  /* The background is the default theme color */\n",
       "  color: var(--sklearn-color-text-on-default-background);\n",
       "}\n",
       "\n",
       "/* On hover, darken the color of the background */\n",
       "#sk-container-id-4 div.sk-label:hover label.sk-toggleable__label {\n",
       "  color: var(--sklearn-color-text);\n",
       "  background-color: var(--sklearn-color-unfitted-level-2);\n",
       "}\n",
       "\n",
       "/* Label box, darken color on hover, fitted */\n",
       "#sk-container-id-4 div.sk-label.fitted:hover label.sk-toggleable__label.fitted {\n",
       "  color: var(--sklearn-color-text);\n",
       "  background-color: var(--sklearn-color-fitted-level-2);\n",
       "}\n",
       "\n",
       "/* Estimator label */\n",
       "\n",
       "#sk-container-id-4 div.sk-label label {\n",
       "  font-family: monospace;\n",
       "  font-weight: bold;\n",
       "  display: inline-block;\n",
       "  line-height: 1.2em;\n",
       "}\n",
       "\n",
       "#sk-container-id-4 div.sk-label-container {\n",
       "  text-align: center;\n",
       "}\n",
       "\n",
       "/* Estimator-specific */\n",
       "#sk-container-id-4 div.sk-estimator {\n",
       "  font-family: monospace;\n",
       "  border: 1px dotted var(--sklearn-color-border-box);\n",
       "  border-radius: 0.25em;\n",
       "  box-sizing: border-box;\n",
       "  margin-bottom: 0.5em;\n",
       "  /* unfitted */\n",
       "  background-color: var(--sklearn-color-unfitted-level-0);\n",
       "}\n",
       "\n",
       "#sk-container-id-4 div.sk-estimator.fitted {\n",
       "  /* fitted */\n",
       "  background-color: var(--sklearn-color-fitted-level-0);\n",
       "}\n",
       "\n",
       "/* on hover */\n",
       "#sk-container-id-4 div.sk-estimator:hover {\n",
       "  /* unfitted */\n",
       "  background-color: var(--sklearn-color-unfitted-level-2);\n",
       "}\n",
       "\n",
       "#sk-container-id-4 div.sk-estimator.fitted:hover {\n",
       "  /* fitted */\n",
       "  background-color: var(--sklearn-color-fitted-level-2);\n",
       "}\n",
       "\n",
       "/* Specification for estimator info (e.g. \"i\" and \"?\") */\n",
       "\n",
       "/* Common style for \"i\" and \"?\" */\n",
       "\n",
       ".sk-estimator-doc-link,\n",
       "a:link.sk-estimator-doc-link,\n",
       "a:visited.sk-estimator-doc-link {\n",
       "  float: right;\n",
       "  font-size: smaller;\n",
       "  line-height: 1em;\n",
       "  font-family: monospace;\n",
       "  background-color: var(--sklearn-color-background);\n",
       "  border-radius: 1em;\n",
       "  height: 1em;\n",
       "  width: 1em;\n",
       "  text-decoration: none !important;\n",
       "  margin-left: 1ex;\n",
       "  /* unfitted */\n",
       "  border: var(--sklearn-color-unfitted-level-1) 1pt solid;\n",
       "  color: var(--sklearn-color-unfitted-level-1);\n",
       "}\n",
       "\n",
       ".sk-estimator-doc-link.fitted,\n",
       "a:link.sk-estimator-doc-link.fitted,\n",
       "a:visited.sk-estimator-doc-link.fitted {\n",
       "  /* fitted */\n",
       "  border: var(--sklearn-color-fitted-level-1) 1pt solid;\n",
       "  color: var(--sklearn-color-fitted-level-1);\n",
       "}\n",
       "\n",
       "/* On hover */\n",
       "div.sk-estimator:hover .sk-estimator-doc-link:hover,\n",
       ".sk-estimator-doc-link:hover,\n",
       "div.sk-label-container:hover .sk-estimator-doc-link:hover,\n",
       ".sk-estimator-doc-link:hover {\n",
       "  /* unfitted */\n",
       "  background-color: var(--sklearn-color-unfitted-level-3);\n",
       "  color: var(--sklearn-color-background);\n",
       "  text-decoration: none;\n",
       "}\n",
       "\n",
       "div.sk-estimator.fitted:hover .sk-estimator-doc-link.fitted:hover,\n",
       ".sk-estimator-doc-link.fitted:hover,\n",
       "div.sk-label-container:hover .sk-estimator-doc-link.fitted:hover,\n",
       ".sk-estimator-doc-link.fitted:hover {\n",
       "  /* fitted */\n",
       "  background-color: var(--sklearn-color-fitted-level-3);\n",
       "  color: var(--sklearn-color-background);\n",
       "  text-decoration: none;\n",
       "}\n",
       "\n",
       "/* Span, style for the box shown on hovering the info icon */\n",
       ".sk-estimator-doc-link span {\n",
       "  display: none;\n",
       "  z-index: 9999;\n",
       "  position: relative;\n",
       "  font-weight: normal;\n",
       "  right: .2ex;\n",
       "  padding: .5ex;\n",
       "  margin: .5ex;\n",
       "  width: min-content;\n",
       "  min-width: 20ex;\n",
       "  max-width: 50ex;\n",
       "  color: var(--sklearn-color-text);\n",
       "  box-shadow: 2pt 2pt 4pt #999;\n",
       "  /* unfitted */\n",
       "  background: var(--sklearn-color-unfitted-level-0);\n",
       "  border: .5pt solid var(--sklearn-color-unfitted-level-3);\n",
       "}\n",
       "\n",
       ".sk-estimator-doc-link.fitted span {\n",
       "  /* fitted */\n",
       "  background: var(--sklearn-color-fitted-level-0);\n",
       "  border: var(--sklearn-color-fitted-level-3);\n",
       "}\n",
       "\n",
       ".sk-estimator-doc-link:hover span {\n",
       "  display: block;\n",
       "}\n",
       "\n",
       "/* \"?\"-specific style due to the `<a>` HTML tag */\n",
       "\n",
       "#sk-container-id-4 a.estimator_doc_link {\n",
       "  float: right;\n",
       "  font-size: 1rem;\n",
       "  line-height: 1em;\n",
       "  font-family: monospace;\n",
       "  background-color: var(--sklearn-color-background);\n",
       "  border-radius: 1rem;\n",
       "  height: 1rem;\n",
       "  width: 1rem;\n",
       "  text-decoration: none;\n",
       "  /* unfitted */\n",
       "  color: var(--sklearn-color-unfitted-level-1);\n",
       "  border: var(--sklearn-color-unfitted-level-1) 1pt solid;\n",
       "}\n",
       "\n",
       "#sk-container-id-4 a.estimator_doc_link.fitted {\n",
       "  /* fitted */\n",
       "  border: var(--sklearn-color-fitted-level-1) 1pt solid;\n",
       "  color: var(--sklearn-color-fitted-level-1);\n",
       "}\n",
       "\n",
       "/* On hover */\n",
       "#sk-container-id-4 a.estimator_doc_link:hover {\n",
       "  /* unfitted */\n",
       "  background-color: var(--sklearn-color-unfitted-level-3);\n",
       "  color: var(--sklearn-color-background);\n",
       "  text-decoration: none;\n",
       "}\n",
       "\n",
       "#sk-container-id-4 a.estimator_doc_link.fitted:hover {\n",
       "  /* fitted */\n",
       "  background-color: var(--sklearn-color-fitted-level-3);\n",
       "}\n",
       "</style><div id=\"sk-container-id-4\" class=\"sk-top-container\"><div class=\"sk-text-repr-fallback\"><pre>MultinomialNB()</pre><b>In a Jupyter environment, please rerun this cell to show the HTML representation or trust the notebook. <br />On GitHub, the HTML representation is unable to render, please try loading this page with nbviewer.org.</b></div><div class=\"sk-container\" hidden><div class=\"sk-item\"><div class=\"sk-estimator fitted sk-toggleable\"><input class=\"sk-toggleable__control sk-hidden--visually\" id=\"sk-estimator-id-4\" type=\"checkbox\" checked><label for=\"sk-estimator-id-4\" class=\"sk-toggleable__label fitted sk-toggleable__label-arrow fitted\">&nbsp;&nbsp;MultinomialNB<a class=\"sk-estimator-doc-link fitted\" rel=\"noreferrer\" target=\"_blank\" href=\"https://scikit-learn.org/1.4/modules/generated/sklearn.naive_bayes.MultinomialNB.html\">?<span>Documentation for MultinomialNB</span></a><span class=\"sk-estimator-doc-link fitted\">i<span>Fitted</span></span></label><div class=\"sk-toggleable__content fitted\"><pre>MultinomialNB()</pre></div> </div></div></div></div>"
      ],
      "text/plain": [
       "MultinomialNB()"
      ]
     },
     "execution_count": 408,
     "metadata": {},
     "output_type": "execute_result"
    }
   ],
   "source": [
    "clf = naive_bayes.MultinomialNB()\n",
    "clf.fit(X_train, y_train)"
   ]
  },
  {
   "cell_type": "code",
   "execution_count": 410,
   "id": "ecf3cbc4-5c59-4af9-bbac-2fe13b14dfc1",
   "metadata": {},
   "outputs": [
    {
     "data": {
      "text/plain": [
       "86.59"
      ]
     },
     "execution_count": 410,
     "metadata": {},
     "output_type": "execute_result"
    }
   ],
   "source": [
    "accuracy_score(y_test, clf.predict(X_test))*100"
   ]
  },
  {
   "cell_type": "code",
   "execution_count": 412,
   "id": "c27f19a0-6522-490b-9d44-05d244d8df79",
   "metadata": {},
   "outputs": [],
   "source": [
    "# we will be using this model for sentiment analysis\n",
    "pickle.dump(clf, open('nlp_model.pkl', 'wb'))"
   ]
  },
  {
   "cell_type": "code",
   "execution_count": null,
   "id": "2856ea95-d341-4350-be6e-01c231a569ac",
   "metadata": {},
   "outputs": [],
   "source": []
  },
  {
   "cell_type": "code",
   "execution_count": null,
   "id": "7abfe562-fd84-4323-8205-5be284575fdd",
   "metadata": {},
   "outputs": [],
   "source": []
  },
  {
   "cell_type": "markdown",
   "id": "0f7b51ee-e6f9-48b1-aab9-24ece4f06925",
   "metadata": {},
   "source": [
    "## Testing our content based similar recommendation solution"
   ]
  },
  {
   "cell_type": "code",
   "execution_count": 417,
   "id": "f6d68878-ee17-4b98-8fb1-d36b20aadba9",
   "metadata": {},
   "outputs": [],
   "source": [
    "from sklearn.feature_extraction.text import CountVectorizer\n",
    "from sklearn.metrics.pairwise import cosine_similarity\n",
    "\n",
    "def create_similarity():\n",
    "    data = pd.read_csv('./main_data.csv')\n",
    "    # creating a count matrix\n",
    "    cv = CountVectorizer()\n",
    "    count_matrix = cv.fit_transform(data['comb'])\n",
    "    # creating a similarity score matrix\n",
    "    similarity = cosine_similarity(count_matrix)\n",
    "    return data,similarity"
   ]
  },
  {
   "cell_type": "code",
   "execution_count": 419,
   "id": "dc70c5ff-986d-4b79-a006-e0be67ca72a1",
   "metadata": {},
   "outputs": [],
   "source": [
    "data, similarity = create_similarity()"
   ]
  },
  {
   "cell_type": "code",
   "execution_count": 421,
   "id": "968631e0-2847-4701-885a-f8b97e5c064a",
   "metadata": {},
   "outputs": [
    {
     "name": "stdout",
     "output_type": "stream",
     "text": [
      "['a quiet place part ii', 'animal crackers', 'wild mountain thyme', 'midnight cowboy', 'breach', 'open secret', 'hide and seek', 'needle in a timestack', 'resident evil: welcome to raccoon city', 'amigo']\n"
     ]
    }
   ],
   "source": [
    "m = 'a quiet place'\n",
    "i = data.loc[data['movie_title']==m].index[0]\n",
    "lst = list(enumerate(similarity[i]))\n",
    "lst = sorted(lst, key = lambda x:x[1] ,reverse=True)\n",
    "lst = lst[1:11] # excluding first item since it is the requested movie itself\n",
    "l = []\n",
    "for i in range(len(lst)):\n",
    "    a = lst[i][0]\n",
    "    l.append(data['movie_title'][a])\n",
    "\n",
    "print(l)"
   ]
  },
  {
   "cell_type": "markdown",
   "id": "9b057394-3d54-46b6-85b2-876d8b2cf045",
   "metadata": {},
   "source": [
    "## Test our Sentiment prediction model"
   ]
  },
  {
   "cell_type": "code",
   "execution_count": 424,
   "id": "354df778-0b0d-4a8a-829a-1ac8a75ed2af",
   "metadata": {},
   "outputs": [],
   "source": [
    "X = ['john wick is one of my greatest movie']"
   ]
  },
  {
   "cell_type": "code",
   "execution_count": 426,
   "id": "bc436297-213c-4c36-b973-f04d5ec95cef",
   "metadata": {},
   "outputs": [],
   "source": [
    "Xt = vectorizer.transform(X)"
   ]
  },
  {
   "cell_type": "code",
   "execution_count": 428,
   "id": "c8e82b43-9f4e-45fd-a294-6ffcd9f909f4",
   "metadata": {},
   "outputs": [
    {
     "data": {
      "text/plain": [
       "1"
      ]
     },
     "execution_count": 428,
     "metadata": {},
     "output_type": "execute_result"
    }
   ],
   "source": [
    "clf.predict(Xt)[0]"
   ]
  },
  {
   "cell_type": "code",
   "execution_count": 430,
   "id": "53515a6e-809d-489d-b5cc-ec8300b72962",
   "metadata": {},
   "outputs": [],
   "source": [
    "X = ['john wick movie was horrible']"
   ]
  },
  {
   "cell_type": "code",
   "execution_count": 432,
   "id": "e39e2524-3cd6-4fc3-a252-36e5e38c4dcc",
   "metadata": {},
   "outputs": [],
   "source": [
    "Xt = vectorizer.transform(X)"
   ]
  },
  {
   "cell_type": "code",
   "execution_count": 434,
   "id": "ea06058d-288d-49c7-bb82-3b8d52bd06fa",
   "metadata": {},
   "outputs": [
    {
     "data": {
      "text/plain": [
       "0"
      ]
     },
     "execution_count": 434,
     "metadata": {},
     "output_type": "execute_result"
    }
   ],
   "source": [
    "clf.predict(Xt)[0]"
   ]
  },
  {
   "cell_type": "markdown",
   "id": "3a6060a9-3a4c-4147-8902-6ac54ad692ec",
   "metadata": {},
   "source": [
    "## Test Rotten tomatoes critics review web scraping"
   ]
  },
  {
   "cell_type": "code",
   "execution_count": 437,
   "id": "93bc2300-5ed3-411d-b731-c62d8b58d714",
   "metadata": {},
   "outputs": [],
   "source": [
    "import bs4 as bs\n",
    "import urllib.request\n",
    "import pandas as pd\n",
    "import numpy as np\n",
    "import requests\n",
    "import pickle"
   ]
  },
  {
   "cell_type": "code",
   "execution_count": 439,
   "id": "ba17a708",
   "metadata": {},
   "outputs": [],
   "source": [
    "# load the nlp model and tfidf vectorizer from disk\n",
    "filename = 'nlp_model.pkl'\n",
    "clf = pickle.load(open(filename, 'rb'))\n",
    "vectorizer = pickle.load(open('transform.pkl','rb'))\n",
    "\n",
    "\n",
    "# web scraping to get user reviews from IMDB site\n",
    "title = 'anaconda'\n",
    "sauce = urllib.request.urlopen('https://www.rottentomatoes.com/m/{}/reviews?type=top_critics'.format(title)).read()\n",
    "soup = bs.BeautifulSoup(sauce,'lxml')\n",
    "soup_result = soup.find_all(\"div\",{\"class\":\"review-text-container\"})"
   ]
  },
  {
   "cell_type": "code",
   "execution_count": 441,
   "id": "4ee50d8a",
   "metadata": {},
   "outputs": [],
   "source": [
    "reviews_list = [] # list of reviews\n",
    "reviews_status = [] # list of comments (good or bad)\n",
    "for review_container in soup_result:\n",
    "    review_text = review_container.find(\"p\", {\"class\":\"review-text\"}).text.strip()\n",
    "    if review_text:\n",
    "        reviews_list.append(review_text)\n",
    "        # passing the review to our model\n",
    "        movie_review_list = np.array([review_text])\n",
    "        movie_vector = vectorizer.transform(movie_review_list) # Naive Bayes Sentiment Prediction model\n",
    "        pred = clf.predict(movie_vector)\n",
    "        reviews_status.append('Good' if pred else 'Bad')\n",
    "\n",
    "# combining reviews and comments into a dictionary\n",
    "movie_reviews = {reviews_list[i]: reviews_status[i] for i in range(len(reviews_list))}   "
   ]
  },
  {
   "cell_type": "code",
   "execution_count": 443,
   "id": "354c61e1-a630-4b29-b520-a6cd8b2c6b09",
   "metadata": {},
   "outputs": [
    {
     "data": {
      "text/plain": [
       "{'The monster looks like a maniacal garden hose in a couple of sequences. Still, it delivers the necessary thrills and chills.': 'Bad',\n",
       " 'Anaconda, directed by Luis Llosa with all of the subtlety of a snake-oil salesman, is in the great tradition of cinematic cheese, as processed as Kraft Singles slices.': 'Bad',\n",
       " 'A silly and plodding Jaws rip-off about a 40-foot man-eating snake on the prowl in the Brazilian rain forest.': 'Bad',\n",
       " \"One never questions the realism of the remarkable animatronic and computer-generated effects, but it's hard to credit a snake that screams.\": 'Good',\n",
       " 'Anaconda is about a snake that eats everybody. That about says it all.': 'Bad',\n",
       " 'Anaconda is such a classic combination of feckless dramaturgy and rampant excess that giving way to giggles is the only sane response.': 'Bad',\n",
       " 'Charmless, unfrightening, and even devoid of the requisite gratuitous nudity, Anaconda just plain bites.': 'Bad',\n",
       " \"It's a slick, scary, funny Creature Feature, beautifully photographed and splendidly acted in high adventure style.\": 'Good',\n",
       " \"It isn't art, but it'll crush your bones.\": 'Bad',\n",
       " 'A trashily entertaining reptilian version of Jaws set in the steaming heart of the Amazon rain forest.': 'Bad'}"
      ]
     },
     "execution_count": 443,
     "metadata": {},
     "output_type": "execute_result"
    }
   ],
   "source": [
    "movie_reviews"
   ]
  },
  {
   "cell_type": "code",
   "execution_count": 453,
   "id": "a1d4092a",
   "metadata": {},
   "outputs": [],
   "source": [
    "\n",
    "# web scraping to get user reviews from IMDB site\n",
    "title = 'the_marvels'\n",
    "sauce = urllib.request.urlopen('https://www.rottentomatoes.com/m/{}/reviews?type=user'.format(title)).read()\n",
    "soup = bs.BeautifulSoup(sauce,'lxml')\n",
    "soup_result = soup.find_all(\"div\",{\"class\":\"review-text-container\"})\n",
    "\n",
    "reviews_list = [] # list of reviews\n",
    "reviews_status = [] # list of comments (good or bad)\n",
    "for review_container in soup_result:\n",
    "    review_text = review_container.find(\"p\", {\"class\":\"audience-reviews__review js-review-text\"}).text.strip()\n",
    "    if review_text:\n",
    "        reviews_list.append(review_text)\n",
    "        # passing the review to our model\n",
    "        movie_review_list = np.array([review_text])\n",
    "        movie_vector = vectorizer.transform(movie_review_list) # Naive Bayes Sentiment Prediction model\n",
    "        pred = clf.predict(movie_vector)\n",
    "        reviews_status.append('Good' if pred else 'Bad')\n",
    "\n",
    "# combining reviews and comments into a dictionary\n",
    "movie_reviews = {reviews_list[i]: reviews_status[i] for i in range(len(reviews_list))}   "
   ]
  },
  {
   "cell_type": "code",
   "execution_count": 455,
   "id": "3ac43edb-a9c1-4400-9d3d-65b1248213b0",
   "metadata": {},
   "outputs": [
    {
     "data": {
      "text/plain": [
       "{'I thought I\\'d give this a chance. I didn\\'t find it as cringe as some say but instead found it rather bland and boring. I once heard someone describing bad storey telling as \"and then\" stories, The Marvels is this type of storey telling.': 'Bad',\n",
       " 'One of the better recent marvel movies and actually good. Loved Kamala in this movie.': 'Good',\n",
       " 'the end credit scenes were more important than the actual plot. nothing important happened here.': 'Bad',\n",
       " \"A fun space movie, in general.\\n\\nI would agree with the issues of tonal shifts, and for me it even had the character inconsistencies of Carol (Captain Marvel, Avengers) and Monica Rambeau (Wandavision), the two just felt different in this movie. Maybe it's really an issue of the tonal shifts.\\n\\nBut the action sequences had me on choke hold lmao. The action especially the parts when they switch places still leaves me in awe.\\n\\nI watched this on a regular cinema when it came out, and recently, again, on Disney+.\": 'Good',\n",
       " 'Not rally a good movie': 'Bad',\n",
       " 'Boring storyline and badly acted, nothing in this movie works.': 'Bad',\n",
       " 'It was an interesting concept but seemed a bit of a waste at the same time': 'Bad',\n",
       " 'Not as bad as some other marvel, but the dialogue SUCKS and just ruins the potential that the plot has. Ms marvel carries the movie, and the writers are so bad at writing nick fury 😭': 'Bad',\n",
       " \"Great action scenes. So that's why she never came  back to earth. Alse great comedy from all 3 cast members switching places. So funny ms marvel yelling . Oh my God, Oh My GOD! While falling and witnessing goose eating. Oooh, Nice kitty. Oh my God! Lol  \\nshouldn't blame director for low turnout. Was supposed to be released in summer not nov 6 just 3 days after strike. The actors were not allowed to promote the film until after the strike. Should have waited so studios fault. \\nHow about a film or tv series of cap Steve Rogers n agent Peggy Carter after he goes back in time in endgame? Also a sgt nick fury and his howling commandoes WW2 tv series or film?\": 'Bad',\n",
       " 'Can’t help but feel like this should have been a Disney + series. Not bad, just not great either.': 'Bad',\n",
       " \"I really wanted to like this just to be contrary to all the bad things people said about it, but it just isn't very good.  It's gracefully and mercifully short and very colourful and action packed, but it's truthfully a little boring.  Brie Larson was far more engaging in the first film.\": 'Bad',\n",
       " 'This movie had weak character development and overstepped heavily on the not so secret agenda they pushed. Producers should have focused more on telling a good story and entertaining and less about pushing a message.': 'Bad',\n",
       " 'Not one of Marvels best!': 'Good',\n",
       " 'A fun popcorn movie, not enough story and too much comedy. The first act of the movie was not good at all.': 'Bad',\n",
       " 'my least favourite marvel movie. i hate it': 'Good',\n",
       " '77/100 I just watched this movie for the first time this morning and the best thing about it was those adorable little fake pussy 😺.': 'Bad',\n",
       " 'I really enjoyed this film! Even though I think the witchcraft side of the MCU is the best part I really enjoyed the group dynamic of this film. Coming off from the Ms. Marvel tv series it really adds to Kamala Khan story as well as Captain Marvel and Monica Rambeau. The fight scenes are amazing, most noticeably the night fight at the end! And the universe building is really something to marvel about(pun intended).': 'Good',\n",
       " 'One on the best marvel movies in 2020 - 2024 period, fun face paced and funny and not overly complex to understand or to watch . It probably didnt perform well on release because most people watched it on streaming services': 'Good',\n",
       " 'The dialogue in this movie quite often feels out of place, especially in important moments for the movie. It heavily impacts scene where there’s supposed to be suspense but instead you scratch your head wondering what they were going for. Out of place dialogue, and forced parts lead to many cringey moments.': 'Bad',\n",
       " \"While not my favorite Phase 5 project from Marvel, this was the first that had a sense of fun, which many will agree the franchise sorely needed. I really hope we see these ladies again in some form. They're like Charlie's Angels in space\": 'Good'}"
      ]
     },
     "execution_count": 455,
     "metadata": {},
     "output_type": "execute_result"
    }
   ],
   "source": [
    "movie_reviews"
   ]
  },
  {
   "cell_type": "code",
   "execution_count": null,
   "id": "ea673d39-4bba-4bc3-a232-21c499dbdf0e",
   "metadata": {},
   "outputs": [],
   "source": []
  }
 ],
 "metadata": {
  "kernelspec": {
   "display_name": "Python 3 (ipykernel)",
   "language": "python",
   "name": "python3"
  },
  "language_info": {
   "codemirror_mode": {
    "name": "ipython",
    "version": 3
   },
   "file_extension": ".py",
   "mimetype": "text/x-python",
   "name": "python",
   "nbconvert_exporter": "python",
   "pygments_lexer": "ipython3",
   "version": "3.12.4"
  }
 },
 "nbformat": 4,
 "nbformat_minor": 5
}
